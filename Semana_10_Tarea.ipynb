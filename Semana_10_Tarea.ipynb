{
  "nbformat": 4,
  "nbformat_minor": 0,
  "metadata": {
    "colab": {
      "name": "Semana 10 Tarea",
      "provenance": [],
      "collapsed_sections": [],
      "include_colab_link": true
    },
    "kernelspec": {
      "name": "python3",
      "display_name": "Python 3"
    },
    "language_info": {
      "name": "python"
    }
  },
  "cells": [
    {
      "cell_type": "markdown",
      "metadata": {
        "id": "view-in-github",
        "colab_type": "text"
      },
      "source": [
        "<a href=\"https://colab.research.google.com/github/USIS014320/Programacion-Computacional-III/blob/main/Semana_10_Tarea.ipynb\" target=\"_parent\"><img src=\"https://colab.research.google.com/assets/colab-badge.svg\" alt=\"Open In Colab\"/></a>"
      ]
    },
    {
      "cell_type": "markdown",
      "metadata": {
        "id": "S4BpQY3e3NvD"
      },
      "source": [
        "Integrantes:\n",
        "\n",
        "    Denys Alexander Hernandez Maravilla.\n",
        "    Brandyn Eraldo Gomez Gonzalez.\n",
        "    Carlos José Díaz Martínez.\n",
        "    Kevin Anival Campos Juarado.\n",
        "\n"
      ]
    },
    {
      "cell_type": "markdown",
      "metadata": {
        "id": "7cPDNMGQYlpS"
      },
      "source": [
        "CONVERSOR DE UNIDADES DE LONGITUDES"
      ]
    },
    {
      "cell_type": "code",
      "metadata": {
        "id": "EmFjvTtDYokp"
      },
      "source": [
        "#importacion de librerias a utilizar\n",
        "import tensorflow as tf\n",
        "import pandas as pd\n",
        "import matplotlib.pyplot as plt\n",
        "import seaborn as sns"
      ],
      "execution_count": null,
      "outputs": []
    },
    {
      "cell_type": "code",
      "metadata": {
        "id": "QF9iS6f1YvBq"
      },
      "source": [
        "#obtencion de los datoas de entrenamiento\n",
        "longitud = pd.read_csv(\"/content/conversor.csv\", sep=\";\")"
      ],
      "execution_count": null,
      "outputs": []
    },
    {
      "cell_type": "code",
      "metadata": {
        "id": "y2k66WucYzIL"
      },
      "source": [
        "#separar los datos de entrada y salida\n",
        "m = longitud[\"metro\"]\n",
        "c = longitud[\"centimetro\"]"
      ],
      "execution_count": null,
      "outputs": []
    },
    {
      "cell_type": "code",
      "metadata": {
        "id": "aXoBokQIY11S"
      },
      "source": [
        "#creando el modelo de entrenamiento\n",
        "modelo = tf.keras.Sequential()\n",
        "modelo.add(tf.keras.layers.Dense(units=1, input_shape=[1]))"
      ],
      "execution_count": null,
      "outputs": []
    },
    {
      "cell_type": "code",
      "metadata": {
        "id": "srV0TCQ_Y3-Z"
      },
      "source": [
        "#compilar el modelo de entrenamiento\n",
        "modelo.compile(optimizer=tf.keras.optimizers.Adam(1),loss='mean_squared_error')"
      ],
      "execution_count": null,
      "outputs": []
    },
    {
      "cell_type": "code",
      "metadata": {
        "id": "5EVmhahNY40Q"
      },
      "source": [
        "#entrenar el modelo de IA\n",
        "mc = modelo.fit(m,c,epochs=590, verbose=0)"
      ],
      "execution_count": null,
      "outputs": []
    },
    {
      "cell_type": "code",
      "metadata": {
        "id": "1ho1XciQZDhx",
        "colab": {
          "base_uri": "https://localhost:8080/"
        },
        "outputId": "ae460504-aec5-4ccc-9c49-03c9571a9346"
      },
      "source": [
        "de = float(input(\"CONVERTIR DE METROS A CENTIMETROS: \"))\n",
        "\n",
        "mc= modelo.predict([de])\n",
        "print(mc)\n"
      ],
      "execution_count": null,
      "outputs": [
        {
          "output_type": "stream",
          "name": "stdout",
          "text": [
            "CONVERTIR DE METROS A CENTIMETROS: 1\n",
            "[[1.0940001]]\n"
          ]
        }
      ]
    },
    {
      "cell_type": "code",
      "metadata": {
        "id": "FyWXR1ZxZMRR",
        "colab": {
          "base_uri": "https://localhost:8080/"
        },
        "outputId": "ed8477ff-e281-462b-acc3-6998e05d36e2"
      },
      "source": [
        "#Metros a Milimetros\n",
        "import tensorflow as tf\n",
        "import pandas as pd\n",
        "import matplotlib.pyplot as plt\n",
        "import seaborn as sns\n",
        "\n",
        "longitud = pd.read_csv(\"/content/conversor.csv\", sep=\";\")\n",
        "m = longitud[\"metro\"]\n",
        "mi = longitud[\"milimetro\"]\n",
        "modelo = tf.keras.Sequential()\n",
        "modelo.add(tf.keras.layers.Dense(units=1, input_shape=[1]))\n",
        "modelo.compile(optimizer=tf.keras.optimizers.Adam(1),loss='mean_squared_error')\n",
        "mmi = modelo.fit(m,mi,epochs=35000, verbose=0)\n",
        "\n",
        "de = float(input(\"CONVERSOR DE METROS A MILIMETROS: \"))\n",
        "mmi= modelo.predict([de])\n",
        "print(mmi)\n"
      ],
      "execution_count": null,
      "outputs": [
        {
          "output_type": "stream",
          "name": "stdout",
          "text": [
            "CONVERSOR DE METROS A MILIMETROS: 48\n",
            "[[48000.]]\n"
          ]
        }
      ]
    },
    {
      "cell_type": "code",
      "metadata": {
        "id": "OcL9sNBgZOuy",
        "colab": {
          "base_uri": "https://localhost:8080/"
        },
        "outputId": "158beb91-ad6e-4624-854e-e1960d084685"
      },
      "source": [
        "#Metros a Yardas\n",
        "import tensorflow as tf\n",
        "import pandas as pd\n",
        "import matplotlib.pyplot as plt\n",
        "import seaborn as sns\n",
        "\n",
        "longitud = pd.read_csv(\"/content/conversor.csv\", sep=\";\", encoding=\"UTF-8\")\n",
        "m = longitud[\"metro\"]\n",
        "y = longitud[\"yarda\"]\n",
        "modelo = tf.keras.Sequential()\n",
        "modelo.add(tf.keras.layers.Dense(units=1, input_shape=[1]))\n",
        "modelo.compile(optimizer=tf.keras.optimizers.Adam(1),loss='mean_squared_error')\n",
        "my = modelo.fit(m,y,epochs=300, verbose=0)\n",
        "\n",
        "de = float(input(\"CONVERSOR DE METROS A YARDAS: \"))\n",
        "my= modelo.predict([de])\n",
        "print(my)"
      ],
      "execution_count": null,
      "outputs": [
        {
          "output_type": "stream",
          "name": "stdout",
          "text": [
            "CONVERSOR DE METROS A YARDAS: 1\n",
            "[[1.0939997]]\n"
          ]
        }
      ]
    },
    {
      "cell_type": "code",
      "metadata": {
        "id": "-EJiPuQcZRrp",
        "colab": {
          "base_uri": "https://localhost:8080/"
        },
        "outputId": "dd1f7185-96ef-4a2d-ec31-8ecfe203b49b"
      },
      "source": [
        "#Metros a Pie\n",
        "import tensorflow as tf\n",
        "import pandas as pd\n",
        "import matplotlib.pyplot as plt\n",
        "import seaborn as sns\n",
        "\n",
        "longitud = pd.read_csv(\"/content/conversor.csv\", sep=\";\")\n",
        "m = longitud[\"metro\"]\n",
        "p = longitud[\"pie\"]\n",
        "modelo = tf.keras.Sequential()\n",
        "modelo.add(tf.keras.layers.Dense(units=1, input_shape=[1]))\n",
        "modelo.compile(optimizer=tf.keras.optimizers.Adam(1),loss='mean_squared_error')\n",
        "mp = modelo.fit(m,p,epochs=500, verbose=0)\n",
        "\n",
        "de = float(input(\"CONVERSOR DE METROS A PIE: \"))\n",
        "mp= modelo.predict([de])\n",
        "print(mp)"
      ],
      "execution_count": null,
      "outputs": [
        {
          "output_type": "stream",
          "name": "stdout",
          "text": [
            "CONVERSOR DE METROS A PIE: 1\n",
            "[[3.281074]]\n"
          ]
        }
      ]
    },
    {
      "cell_type": "code",
      "metadata": {
        "id": "mDTJMfpYZVaZ",
        "colab": {
          "base_uri": "https://localhost:8080/"
        },
        "outputId": "3b6e23c8-41f5-4767-adb6-eeac41321156"
      },
      "source": [
        "#Metros a Pulgada\n",
        "import tensorflow as tf\n",
        "import pandas as pd\n",
        "import matplotlib.pyplot as plt\n",
        "import seaborn as sns\n",
        "\n",
        "longitud = pd.read_csv(\"/content/conversor.csv\", sep=\";\")\n",
        "m = longitud[\"metro\"]\n",
        "pu = longitud[\"pulgada\"]\n",
        "modelo = tf.keras.Sequential()\n",
        "modelo.add(tf.keras.layers.Dense(units=1, input_shape=[1]))\n",
        "modelo.compile(optimizer=tf.keras.optimizers.Adam(1),loss='mean_squared_error')\n",
        "mpu = modelo.fit(m,pu,epochs=7000, verbose=0)\n",
        "\n",
        "de = float(input(\"CONVERSOR DE METROS A PULGADAS: \"))\n",
        "mpu= modelo.predict([de])\n",
        "print(mpu)"
      ],
      "execution_count": null,
      "outputs": [
        {
          "output_type": "stream",
          "name": "stdout",
          "text": [
            "CONVERSOR DE METROS A PULGADAS: 1\n",
            "[[39.36999]]\n"
          ]
        }
      ]
    },
    {
      "cell_type": "markdown",
      "metadata": {
        "id": "OFhVYLzZdWX2"
      },
      "source": [
        "CONVERSOR DE MASA"
      ]
    },
    {
      "cell_type": "code",
      "metadata": {
        "id": "eKsMWRVndY5u"
      },
      "source": [
        "import tensorflow as tf\n",
        "import pandas as pd\n",
        "import matplotlib.pyplot as plt"
      ],
      "execution_count": null,
      "outputs": []
    },
    {
      "cell_type": "code",
      "metadata": {
        "id": "VjoW4dsCdco-"
      },
      "source": [
        "masa = pd.read_csv(\"/content/conversor.csv\", sep=\";\")"
      ],
      "execution_count": null,
      "outputs": []
    },
    {
      "cell_type": "code",
      "metadata": {
        "id": "7e4j_nY4deGf"
      },
      "source": [
        "k = masa[\"kilo\"]\n",
        "l = masa[\"libra\"]"
      ],
      "execution_count": null,
      "outputs": []
    },
    {
      "cell_type": "code",
      "metadata": {
        "id": "yTl-BipQdfql"
      },
      "source": [
        "modelo = tf.keras.Sequential()\n",
        "modelo.add(tf.keras.layers.Dense(units=1, input_shape=[1]))"
      ],
      "execution_count": null,
      "outputs": []
    },
    {
      "cell_type": "code",
      "metadata": {
        "id": "Adr3Ao8RdhQm"
      },
      "source": [
        "modelo.compile(optimizer=tf.keras.optimizers.Adam(1), loss='mean_squared_error')"
      ],
      "execution_count": null,
      "outputs": []
    },
    {
      "cell_type": "code",
      "metadata": {
        "id": "nRW-UEoqdjwe",
        "colab": {
          "base_uri": "https://localhost:8080/",
          "height": 173
        },
        "outputId": "4f2bdb4a-a934-4416-ad4b-58e00e74e33c"
      },
      "source": [
        "mas = modelo.fit(k, l, epochs=200, verbose=0)"
      ],
      "execution_count": null,
      "outputs": [
        {
          "output_type": "error",
          "ename": "NameError",
          "evalue": "ignored",
          "traceback": [
            "\u001b[0;31m---------------------------------------------------------------------------\u001b[0m",
            "\u001b[0;31mNameError\u001b[0m                                 Traceback (most recent call last)",
            "\u001b[0;32m<ipython-input-64-04fa2aae3456>\u001b[0m in \u001b[0;36m<module>\u001b[0;34m()\u001b[0m\n\u001b[0;32m----> 1\u001b[0;31m \u001b[0mmas\u001b[0m \u001b[0;34m=\u001b[0m \u001b[0mmodelo\u001b[0m\u001b[0;34m.\u001b[0m\u001b[0mfit\u001b[0m\u001b[0;34m(\u001b[0m\u001b[0mk\u001b[0m\u001b[0;34m,\u001b[0m \u001b[0ml\u001b[0m\u001b[0;34m,\u001b[0m \u001b[0mepochs\u001b[0m\u001b[0;34m=\u001b[0m\u001b[0;36m200\u001b[0m\u001b[0;34m,\u001b[0m \u001b[0mverbose\u001b[0m\u001b[0;34m=\u001b[0m\u001b[0;36m0\u001b[0m\u001b[0;34m)\u001b[0m\u001b[0;34m\u001b[0m\u001b[0;34m\u001b[0m\u001b[0m\n\u001b[0m",
            "\u001b[0;31mNameError\u001b[0m: name 'k' is not defined"
          ]
        }
      ]
    },
    {
      "cell_type": "code",
      "metadata": {
        "id": "Ck9f7KuOdljt",
        "colab": {
          "base_uri": "https://localhost:8080/"
        },
        "outputId": "244682e6-cd92-43bd-a6a9-d8bb2cbd1b1e"
      },
      "source": [
        "cantidad = float(input(\"Cantidad de Masa: \"))\n",
        "mas = modelo.predict([cantidad])\n",
        "print(mas)"
      ],
      "execution_count": null,
      "outputs": [
        {
          "output_type": "stream",
          "name": "stdout",
          "text": [
            "Cantidad de Masa: 1\n",
            "[[2.5250766]]\n"
          ]
        }
      ]
    },
    {
      "cell_type": "markdown",
      "metadata": {
        "id": "oVeL2Zs0c83t"
      },
      "source": [
        "CONVERSOR DE ALMACENAMIENTO"
      ]
    },
    {
      "cell_type": "code",
      "metadata": {
        "id": "_gT5_rpSdA6f"
      },
      "source": [
        "#importando las librerias\n",
        "import tensorflow as tf\n",
        "import pandas as pd\n",
        "import matplotlib.pyplot as plt"
      ],
      "execution_count": null,
      "outputs": []
    },
    {
      "cell_type": "code",
      "metadata": {
        "id": "pqooAZ-bdIK_"
      },
      "source": [
        "almacenamiento = pd.read_csv(\"/content/conversor.csv\", sep=\";\")\n",
        "#print(almacenamiento)"
      ],
      "execution_count": null,
      "outputs": []
    },
    {
      "cell_type": "code",
      "metadata": {
        "id": "_rV9PyEUdKSu"
      },
      "source": [
        "g = almacenamiento[\"gigabytes\"]\n",
        "m = almacenamiento[\"megabytes\"]"
      ],
      "execution_count": null,
      "outputs": []
    },
    {
      "cell_type": "code",
      "metadata": {
        "id": "LWu-3_HPdMKV"
      },
      "source": [
        "modelo = tf.keras.Sequential()\n",
        "modelo.add(tf.keras.layers.Dense(units=1, input_shape=[1]))"
      ],
      "execution_count": null,
      "outputs": []
    },
    {
      "cell_type": "code",
      "metadata": {
        "id": "ZORAxlA4dNzt"
      },
      "source": [
        "modelo.compile(optimizer=tf.keras.optimizers.Adam(1), loss='mean_squared_error')"
      ],
      "execution_count": null,
      "outputs": []
    },
    {
      "cell_type": "code",
      "metadata": {
        "id": "RhWM8lrWdPet"
      },
      "source": [
        "alm = modelo.fit(g, m, epochs=3000, verbose=0)"
      ],
      "execution_count": null,
      "outputs": []
    },
    {
      "cell_type": "code",
      "metadata": {
        "id": "z3TM76kddQuu",
        "colab": {
          "base_uri": "https://localhost:8080/"
        },
        "outputId": "bbebadd3-bbb6-4987-faaa-fb8eaa4c192f"
      },
      "source": [
        "cant = float(input(\"Cantidad de Gigabytes : \"))\n",
        "alm = modelo.predict([cant])\n",
        "print(alm)"
      ],
      "execution_count": null,
      "outputs": [
        {
          "output_type": "stream",
          "name": "stdout",
          "text": [
            "Cantidad de Gigabytes : 4\n",
            "[[9.036125e-05]]\n"
          ]
        }
      ]
    },
    {
      "cell_type": "markdown",
      "metadata": {
        "id": "TFJQN4xVRD3s"
      },
      "source": [
        "CONVERSOR DE UNIDADES DE TIEMPO\n"
      ]
    },
    {
      "cell_type": "code",
      "metadata": {
        "id": "JKzvlMo--sQo"
      },
      "source": [
        "#importando las librerias\n",
        "import tensorflow as tf\n",
        "import pandas as pd\n",
        "import matplotlib.pyplot as plt\n",
        "import seaborn as sns"
      ],
      "execution_count": null,
      "outputs": []
    },
    {
      "cell_type": "code",
      "metadata": {
        "id": "rWSqITF1BVEx"
      },
      "source": [
        "#leer los datos de entrenamiento\n",
        "tiempos = pd.read_csv(\"/content/conversor.csv\", sep=\";\", encoding=\"UTF-8\")\n",
        "#print(tiempos)"
      ],
      "execution_count": null,
      "outputs": []
    },
    {
      "cell_type": "code",
      "metadata": {
        "id": "jhT8amu9BdD5"
      },
      "source": [
        "#separar los datos de entrada y salida\n",
        "m = tiempos[\"minutos\"]\n",
        "s = tiempos[\"segundos\"]"
      ],
      "execution_count": null,
      "outputs": []
    },
    {
      "cell_type": "code",
      "metadata": {
        "id": "zeXvVoE8Bdrv"
      },
      "source": [
        "#creando el modelo de entrenamiento\n",
        "modelo = tf.keras.Sequential()\n",
        "modelo.add(tf.keras.layers.Dense(units=1, input_shape=[1]))"
      ],
      "execution_count": null,
      "outputs": []
    },
    {
      "cell_type": "code",
      "metadata": {
        "id": "xA9Kr4KCBf4g"
      },
      "source": [
        "#compilar el modelo\n",
        "modelo.compile(optimizer=tf.keras.optimizers.Adam(1),loss='mean_squared_error')"
      ],
      "execution_count": null,
      "outputs": []
    },
    {
      "cell_type": "code",
      "metadata": {
        "id": "2fXl_ckrPk5r",
        "colab": {
          "base_uri": "https://localhost:8080/"
        },
        "outputId": "18925809-89ea-4de1-ddf8-f3a4d05813bb"
      },
      "source": [
        "#entrenar el modelo de inteligenica artidifial MINUTOS A SEGUNDOS\n",
        "ms = modelo.fit(m,s,epochs=1000, verbose=0)\n",
        "cantidad = float(input(\"Cantidad de Minutos: \"))\n",
        "ms = modelo.predict([cantidad])\n",
        "print(\"La conversion de \",cantidad,\" Minutos a Segundos es de: \",ms)"
      ],
      "execution_count": null,
      "outputs": [
        {
          "output_type": "stream",
          "name": "stdout",
          "text": [
            "Cantidad de Minutos: 1\n",
            "La conversion de  1.0  Minutos a Segundos es de:  [[65.97531]]\n"
          ]
        }
      ]
    },
    {
      "cell_type": "code",
      "metadata": {
        "id": "UuoduV4nO5jM",
        "colab": {
          "base_uri": "https://localhost:8080/"
        },
        "outputId": "d7d296f9-31c1-4865-ccdb-73a016a70a3e"
      },
      "source": [
        "tiempos = pd.read_csv(\"/content/conversor.csv\", sep=\";\", encoding=\"UTF-8\")\n",
        "\n",
        "m = tiempos[\"minutos\"]\n",
        "h = tiempos[\"horas\"]\n",
        "\n",
        "modelo = tf.keras.Sequential()\n",
        "modelo.add(tf.keras.layers.Dense(units=1, input_shape=[1]))\n",
        "modelo.compile(optimizer=tf.keras.optimizers.Adam(1),loss='mean_squared_error')\n",
        "\n",
        "#entrenar el modelo de inteligenica artidifial MINUTOS A HORAS\n",
        "mh= modelo.fit(m,h,epochs=1000, verbose=0)\n",
        "\n",
        "cantidad = float(input(\"Cantidad de Minutos: \"))\n",
        "mh = modelo.predict([cantidad])\n",
        "print(\"La conversion de \",cantidad,\" Minutos a Horas es de: \",mh)"
      ],
      "execution_count": null,
      "outputs": [
        {
          "output_type": "stream",
          "name": "stdout",
          "text": [
            "Cantidad de Minutos: 60\n",
            "La conversion de  60.0  Minutos a Horas es de:  [[1.]]\n"
          ]
        }
      ]
    },
    {
      "cell_type": "code",
      "metadata": {
        "id": "b3FGjym9UGXt",
        "colab": {
          "base_uri": "https://localhost:8080/"
        },
        "outputId": "5f52b73b-b562-4fb4-bb59-a26b72c4984e"
      },
      "source": [
        "tiempos = pd.read_csv(\"/content/conversor.csv\", sep=\";\", encoding=\"UTF-8\")\n",
        "\n",
        "m = tiempos[\"minutos\"]\n",
        "d = tiempos[\"dias\"]\n",
        "\n",
        "modelo = tf.keras.Sequential()\n",
        "modelo.add(tf.keras.layers.Dense(units=1, input_shape=[1]))\n",
        "modelo.compile(optimizer=tf.keras.optimizers.Adam(1),loss='mean_squared_error')\n",
        "\n",
        "#entrenar el modelo de inteligenica artidifial MINUTOS A DIAS\n",
        "md = modelo.fit(m,d,epochs=1000, verbose=0)\n",
        "\n",
        "cantidad = float(input(\"Cantidad de Minutos: \"))\n",
        "md = modelo.predict([cantidad])\n",
        "print(\"La conversion de \",cantidad,\" Minutos a Dias es de: \",md)\n"
      ],
      "execution_count": null,
      "outputs": [
        {
          "output_type": "stream",
          "name": "stdout",
          "text": [
            "Cantidad de Minutos: 545\n",
            "La conversion de  545.0  Minutos a Dias es de:  [[0.37847224]]\n"
          ]
        }
      ]
    },
    {
      "cell_type": "code",
      "metadata": {
        "id": "pQe5JyxxUNlr",
        "colab": {
          "base_uri": "https://localhost:8080/"
        },
        "outputId": "bb355434-cc01-4533-d1d4-8f90e1752145"
      },
      "source": [
        "tiempos = pd.read_csv(\"/content/conversor.csv\", sep=\";\", encoding=\"UTF-8\")\n",
        "\n",
        "m = tiempos[\"minutos\"]\n",
        "se = tiempos[\"semanas\"]\n",
        "\n",
        "\n",
        "modelo = tf.keras.Sequential()\n",
        "modelo.add(tf.keras.layers.Dense(units=1, input_shape=[1]))\n",
        "modelo.compile(optimizer=tf.keras.optimizers.Adam(1),loss='mean_squared_error')\n",
        "\n",
        "#entrenar el modelo de inteligenica artidifial MINUTOS A SEMANAS\n",
        "mse = modelo.fit(m,se,epochs=1000, verbose=0)\n",
        "\n",
        "cantidad = float(input(\"Cantidad de Minutos: \"))\n",
        "mse = modelo.predict([cantidad])\n",
        "print(\"La conversion de \",cantidad,\" Minutos a Semanas es de: \",mse)"
      ],
      "execution_count": null,
      "outputs": [
        {
          "output_type": "stream",
          "name": "stdout",
          "text": [
            "Cantidad de Minutos: 489\n",
            "La conversion de  489.0  Minutos a Semanas es de:  [[0.04851192]]\n"
          ]
        }
      ]
    },
    {
      "cell_type": "code",
      "metadata": {
        "id": "VIxSLyYqVU3i",
        "colab": {
          "base_uri": "https://localhost:8080/"
        },
        "outputId": "62b9e645-9871-4622-e2f3-18e59dc064f0"
      },
      "source": [
        "tiempos = pd.read_csv(\"/content/conversor.csv\", sep=\";\", encoding=\"UTF-8\")\n",
        "\n",
        "m = tiempos[\"minutos\"]\n",
        "me = tiempos[\"meses\"]\n",
        "\n",
        "#entrenar el modelo de inteligenica artidifial MINUTOS A MESES\n",
        "mme = modelo.fit(m,me,epochs=1000, verbose=0)\n",
        "\n",
        "cantidad = float(input(\"Cantidad de Minutos: \"))\n",
        "mme = modelo.predict([cantidad])\n",
        "print(\"La conversion de \",cantidad,\" Minutos a Meses es de: \",mme)"
      ],
      "execution_count": null,
      "outputs": [
        {
          "output_type": "stream",
          "name": "stdout",
          "text": [
            "Cantidad de Minutos: 2021\n",
            "La conversion de  2021.0  Minutos a Meses es de:  [[0.04575267]]\n"
          ]
        }
      ]
    },
    {
      "cell_type": "markdown",
      "metadata": {
        "id": "97VOOcYPma8c"
      },
      "source": [
        "CONVERSOR DE AREA\n"
      ]
    },
    {
      "cell_type": "code",
      "metadata": {
        "id": "ykR3ytG7qWlu",
        "colab": {
          "base_uri": "https://localhost:8080/"
        },
        "outputId": "3699a8fa-b64f-4ad2-9075-3114e5c0f864"
      },
      "source": [
        "#importando las librerias.\n",
        "import tensorflow as tf\n",
        "import pandas as pd\n",
        "import matplotlib.pyplot as plt\n",
        "#leer los datos de entrenamiento\n",
        "area = pd.read_csv(\"/content/conversores.csv\", sep=\";\")\n",
        "#separar los datos de entrada y salida\n",
        "mili = area[\"milimetros cuadrados\"]\n",
        "centi = area[\"centimetros cuadrados\"]\n",
        "#creando el modelo de entrenamiento\n",
        "modelo = tf.keras.Sequential()\n",
        "modelo.add(tf.keras.layers.Dense(units=1, input_shape=[1]))\n",
        "#compilar el modelo de entrenamiento\n",
        "modelo.compile(optimizer=tf.keras.optimizers.Adam(1),loss='mean_squared_error')\n",
        "#entrenar el modelo de IA\n",
        "hisotiral = modelo.fit(mili,centi,epochs=16000, verbose=0)\n",
        "#Imprimir\n",
        "n = float(input(\"Ingrese los milimetros cuadrados a convertir \"))\n",
        "centi_cuadrado = modelo.predict([n])\n",
        "print(\"La conversion de \", n , \"Milimetros cuadrados a Centimetros cuadrado es \",centi_cuadrado)"
      ],
      "execution_count": null,
      "outputs": [
        {
          "output_type": "stream",
          "name": "stdout",
          "text": [
            "Ingrese los milimetros cuadrados a convertir 10\n",
            "La conversion de  10.0 milimetros a centimetros es  [[0.10085337]]\n"
          ]
        }
      ]
    },
    {
      "cell_type": "code",
      "metadata": {
        "id": "mHEcTJKkqXxE",
        "colab": {
          "base_uri": "https://localhost:8080/"
        },
        "outputId": "0be59360-feab-4dc8-c8f1-37eb1f63ceed"
      },
      "source": [
        "#importando las librerias.\n",
        "import tensorflow as tf\n",
        "import pandas as pd\n",
        "import matplotlib.pyplot as plt\n",
        "#leer los datos de entrenamiento\n",
        "area = pd.read_csv(\"/content/conversores.csv\", sep=\";\")\n",
        "#separar los datos de entrada y salida\n",
        "centi = area[\"centimetros cuadrados\"]\n",
        "mili = area[\"milimetros cuadrados\"]\n",
        "#creando el modelo de entrenamiento\n",
        "modelo = tf.keras.Sequential()\n",
        "modelo.add(tf.keras.layers.Dense(units=1, input_shape=[1]))\n",
        "#compilar el modelo de entrenamiento\n",
        "modelo.compile(optimizer=tf.keras.optimizers.Adam(1),loss='mean_squared_error')\n",
        "#entrenar el modelo de IA\n",
        "hisotiral = modelo.fit(centi,mili,epochs=1500, verbose=0)\n",
        "#Imprimir\n",
        "n = float(input(\"Ingrese los centimetros cuadrados a convertir \"))\n",
        "mili_c = modelo.predict([n])\n",
        "print(\"La conversion de \", n ,\"Centimetros cuadrados a Milimetros cuadrados es \", mili_c)"
      ],
      "execution_count": null,
      "outputs": [
        {
          "output_type": "stream",
          "name": "stdout",
          "text": [
            "Ingrese los centimetros cuadrados a convertir 10\n",
            "La conversion de  10.0 centimetros cuadrados a milimetros cuadrados  [[1000.0187]]\n"
          ]
        }
      ]
    },
    {
      "cell_type": "code",
      "metadata": {
        "id": "SDhurP2-qa0l",
        "colab": {
          "base_uri": "https://localhost:8080/"
        },
        "outputId": "16201b6a-ca49-4a03-e284-52c8f8b29fe2"
      },
      "source": [
        "#importando las librerias.\n",
        "import tensorflow as tf\n",
        "import pandas as pd\n",
        "import matplotlib.pyplot as plt\n",
        "#leer los datos de entrenamiento\n",
        "area = pd.read_csv(\"/content/conversores.csv\", sep=\";\")\n",
        "#separar los datos de entrada y salida\n",
        "k2 = area[\"kilometros cuadrados\"]\n",
        "hectareas = area[\"hectareas\"]\n",
        "#creando el modelo de entrenamiento\n",
        "modelo = tf.keras.Sequential()\n",
        "modelo.add(tf.keras.layers.Dense(units=1, input_shape=[1]))\n",
        "#compilar el modelo de entrenamiento\n",
        "modelo.compile(optimizer=tf.keras.optimizers.Adam(1),loss='mean_squared_error')\n",
        "#entrenar el modelo de IA\n",
        "hisotiral = modelo.fit(k2,hectareas,epochs=10000, verbose=0)\n",
        "#Imprimir\n",
        "n = float(input(\"Ingrese los kilometros cuadrados a convertir \"))\n",
        "h = modelo.predict([n])\n",
        "print(\"La conversion de \",n, \"Kilometros cuadrados a Hectareas es \", h)"
      ],
      "execution_count": null,
      "outputs": [
        {
          "output_type": "stream",
          "name": "stdout",
          "text": [
            "Ingrese los kilometros cuadrados a convertir 10\n",
            "La conversion de  10.0 Kilometros cuadrados a Hectareas es  [[1000.0307]]\n"
          ]
        }
      ]
    }
  ]
}