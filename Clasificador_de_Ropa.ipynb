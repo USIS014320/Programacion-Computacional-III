{
  "nbformat": 4,
  "nbformat_minor": 0,
  "metadata": {
    "colab": {
      "name": "Clasificador_de_Ropa.ipynb",
      "provenance": [],
      "collapsed_sections": [],
      "include_colab_link": true
    },
    "kernelspec": {
      "name": "python3",
      "display_name": "Python 3"
    },
    "language_info": {
      "name": "python"
    }
  },
  "cells": [
    {
      "cell_type": "markdown",
      "metadata": {
        "id": "view-in-github",
        "colab_type": "text"
      },
      "source": [
        "<a href=\"https://colab.research.google.com/github/USIS014320/Programacion-Computacional-III/blob/main/Clasificador_de_Ropa.ipynb\" target=\"_parent\"><img src=\"https://colab.research.google.com/assets/colab-badge.svg\" alt=\"Open In Colab\"/></a>"
      ]
    },
    {
      "cell_type": "code",
      "metadata": {
        "id": "uH1F-Nm6UQTA"
      },
      "source": [
        "#IMPORTAR LIBRERIAS\n",
        "import tensorflow as tf\n",
        "import matplotlib.pyplot as plt\n",
        "import numpy as np\n",
        "import math\n",
        "import tensorflow_datasets as tfds"
      ],
      "execution_count": null,
      "outputs": []
    },
    {
      "cell_type": "code",
      "metadata": {
        "id": "6sAHhJyDUS_x"
      },
      "source": [
        "#cargamos nuestro dataset en variables\n",
        "dataset, metedata = tfds.load('fashion_mnist', as_supervised=True, with_info=True)\n",
        "dataTrain, dataTest = dataset['train'], dataset['test']"
      ],
      "execution_count": null,
      "outputs": []
    },
    {
      "cell_type": "code",
      "metadata": {
        "id": "-IVLKS0_UV3J"
      },
      "source": [
        "name = [\"Top/Camiseta\",\"Pantalon\",\"Sueter\",\"Vestido\",\"Abrigo\",\"Sandalia\",\"Camiseta\",\"Zapatilla\",\"Bolsa\",\"Bota de tobillo\"]"
      ],
      "execution_count": null,
      "outputs": []
    },
    {
      "cell_type": "code",
      "metadata": {
        "id": "h33glQ_jUZsx",
        "colab": {
          "base_uri": "https://localhost:8080/"
        },
        "outputId": "ad02c059-b41b-4d58-d29a-1b92785df57e"
      },
      "source": [
        "#Pasar a variables los datos de entrenamiento y prueba\n",
        "numTraint = metedata.splits[\"train\"].num_examples\n",
        "numTest = metedata.splits[\"test\"].num_examples\n",
        "print(numTraint, numTest)"
      ],
      "execution_count": null,
      "outputs": [
        {
          "output_type": "stream",
          "name": "stdout",
          "text": [
            "60000 10000\n"
          ]
        }
      ]
    },
    {
      "cell_type": "code",
      "metadata": {
        "id": "S0VwNOpLUhYx"
      },
      "source": [
        "#funcion normalizadora de los pixeles de 0 - 255 que sean de  0 - 1\n",
        "def normalizacion(imgs, lbls):\n",
        "  imgs = tf.cast(imgs, tf.float32)\n",
        "  imgs /= 255\n",
        "  return imgs, lbls"
      ],
      "execution_count": null,
      "outputs": []
    },
    {
      "cell_type": "code",
      "metadata": {
        "id": "nn6KqJoIUiqR"
      },
      "source": [
        "#llamamos la funcion normalizadora en ambos datset\n",
        "dataTrain = dataTrain.map(normalizacion)\n",
        "dataTest = dataTest.map(normalizacion)"
      ],
      "execution_count": null,
      "outputs": []
    },
    {
      "cell_type": "code",
      "metadata": {
        "id": "rL58q6BoUlQ5"
      },
      "source": [
        "#estructuramos nuestra red nueronal\n",
        "modelo = tf.keras.Sequential([\n",
        "         tf.keras.layers.Flatten(input_shape=(28,28,1)), #capa de entrada de 28*28 = 784 neuronas una para cada pixel\n",
        "         tf.keras.layers.Dense(80, activation=tf.nn.relu), #capa oculta con 80 neuronas, funcion de activacion relu\n",
        "         tf.keras.layers.Dense(80, activation=tf.nn.relu), # capa oculta con 80 neuronas, funcion de activacion relu\n",
        "         tf.keras.layers.Dense(10, activation=tf.nn.softmax) # capa de salida con 10 neuronas, funcion de activacion sofmax. esta funcion es requerida para clasificacion            \n",
        "])"
      ],
      "execution_count": null,
      "outputs": []
    },
    {
      "cell_type": "code",
      "metadata": {
        "id": "OtWz-nzTVVeK"
      },
      "source": [
        "#compilamos el modelo de red neuronal e indicamos las finciones da utilizar\n",
        "modelo.compile(\n",
        "    optimizer= \"adam\",\n",
        "    loss= \"sparse_categorical_crossentropy\",\n",
        "    metrics= ['accuracy']\n",
        ")"
      ],
      "execution_count": null,
      "outputs": []
    },
    {
      "cell_type": "code",
      "metadata": {
        "id": "9XtScqRcVY1R"
      },
      "source": [
        "#entrenamiento por lostes\n",
        "batchsize = 32\n",
        "dataTrain = dataTrain.repeat().shuffle(numTraint).batch(batchsize)\n",
        "dataTest = dataTest.repeat().shuffle(numTest).batch(batchsize)"
      ],
      "execution_count": null,
      "outputs": []
    },
    {
      "cell_type": "code",
      "metadata": {
        "id": "hvRpT6fvVbfC",
        "colab": {
          "base_uri": "https://localhost:8080/"
        },
        "outputId": "acb44a01-7311-4a34-baa9-41e31872c9c1"
      },
      "source": [
        "#entrrenando nuestro modelos de datos\n",
        "modelo.fit(dataTrain, epochs=5, steps_per_epoch=math.ceil(numTraint/batchsize), verbose=2)"
      ],
      "execution_count": null,
      "outputs": [
        {
          "output_type": "stream",
          "name": "stdout",
          "text": [
            "Epoch 1/5\n",
            "1875/1875 - 16s - loss: 0.9083 - accuracy: 0.6754\n",
            "Epoch 2/5\n",
            "1875/1875 - 7s - loss: 0.5880 - accuracy: 0.7867\n",
            "Epoch 3/5\n",
            "1875/1875 - 7s - loss: 0.5332 - accuracy: 0.8087\n",
            "Epoch 4/5\n"
          ]
        }
      ]
    },
    {
      "cell_type": "code",
      "metadata": {
        "id": "XOXO2ZhdXD-L",
        "colab": {
          "base_uri": "https://localhost:8080/"
        },
        "outputId": "d90e4ec9-8235-4055-e42f-20904dd6e12d"
      },
      "source": [
        "#evaluar modelo con los datos de prueba\n",
        "perFail, accuracy = modelo.evaluate(dataTest, steps=math.ceil(numTest/batchsize))\n",
        "print(f\"Resultado de las pruebas: {perFail, accuracy}\")"
      ],
      "execution_count": null,
      "outputs": [
        {
          "output_type": "stream",
          "name": "stdout",
          "text": [
            "313/313 [==============================] - 2s 3ms/step - loss: 0.3444 - accuracy: 0.8704\n",
            "Resultado de las pruebas: (0.3443901240825653, 0.8704073429107666)\n"
          ]
        }
      ]
    },
    {
      "cell_type": "code",
      "metadata": {
        "id": "dSvcEXy1XKjq"
      },
      "source": [
        "#GRAFICAR LA IMAGEN \n",
        "def grafImgagen(prdArray, trueLabels, img):\n",
        "  prdArray, trueLabels, img = prdArray[i], trueLabels[i], img[i]\n",
        "  plt.grid(False)\n",
        "  plt.xticks([])\n",
        "  plt.yticks([])\n",
        "  plt.imshow(img[...,0], cmap=plt.cm.binary)\n",
        "\n",
        "  lblPrd = np.argmax(prdArray)\n",
        "  if lblPrd == trueLabels:\n",
        "    color = \"green\"\n",
        "  else:\n",
        "    color = \"red\"\n",
        "  \n",
        "  plt.xlabel(\"Predict: {}\".format(name[lblPrd]), color=color)"
      ],
      "execution_count": null,
      "outputs": []
    },
    {
      "cell_type": "code",
      "metadata": {
        "id": "54UosQXYXMWK"
      },
      "source": [
        "#convertimos los tensores o imagenes en matrices numpy\n",
        "for imgTest, tagTest in dataTest.take(1):\n",
        "  imgTest = imgTest.numpy()\n",
        "  tagTest = tagTest.numpy()\n",
        "  prd = modelo.predict(imgTest)"
      ],
      "execution_count": null,
      "outputs": []
    },
    {
      "cell_type": "code",
      "metadata": {
        "id": "gdSqBUCeXQvy"
      },
      "source": [
        "#Graficamos los valores de las matriz una para las imagenes y otra para las graficas de barra segun el acierto\n",
        "def grafiMatriz(prdMatriz, trueTag):\n",
        "  prdMatriz, trueTag = prdMatriz[i], trueTag[i]\n",
        "  plt.grid(False)\n",
        "  plt.xticks([])\n",
        "  plt.yticks([])\n",
        "  plt.ylim([0,1])\n",
        "  thisPlot = plt.bar(range(10), prdMatriz, color='#9CC8BB')\n",
        "  prdTag = np.argmax(prdMatriz)\n",
        "\n",
        "  thisPlot[prdTag].set_color(\"red\")\n",
        "  thisPlot[trueTag].set_color(\"black\")"
      ],
      "execution_count": null,
      "outputs": []
    },
    {
      "cell_type": "code",
      "metadata": {
        "id": "hEQ6qCjpXalK",
        "colab": {
          "base_uri": "https://localhost:8080/"
        },
        "outputId": "82d5ec20-db04-4ed2-eb59-c08dc14b2f55"
      },
      "source": [
        "import cv2\n",
        "#AGREGAR LA IMAGEN\n",
        "imgLocal = cv2.imread('/content/sandalia.png', 0)\n",
        "imgLocal = tf.cast(imgLocal, tf.float32)\n",
        "imgLocal = imgLocal / 255\n",
        "imgLocal = np.expand_dims(imgLocal, axis=0)\n",
        "\n",
        "print(imgLocal.shape)"
      ],
      "execution_count": null,
      "outputs": [
        {
          "output_type": "stream",
          "name": "stdout",
          "text": [
            "(1, 28, 28)\n"
          ]
        }
      ]
    },
    {
      "cell_type": "code",
      "metadata": {
        "id": "WUhKwicNXgRi"
      },
      "source": [
        "#ENTRENAR\n",
        "PrdLocal = modelo.predict(imgLocal, batch_size=1)\n",
        "tagLocalTest = np.argmax(PrdLocal)\n"
      ],
      "execution_count": null,
      "outputs": []
    },
    {
      "cell_type": "code",
      "metadata": {
        "id": "EAWYuEegXkdK",
        "colab": {
          "base_uri": "https://localhost:8080/",
          "height": 148
        },
        "outputId": "7fe47f34-c76a-4a4b-dfb8-93f3cb564c7c"
      },
      "source": [
        "#IMPRIMIR LOS RESULTADOS\n",
        "columns = 2\n",
        "rows = 2\n",
        "\n",
        "plt.figure(figsize=(2*2*columns, 2*rows))\n",
        "plt.subplot(rows, 2*columns, 2*0+1)\n",
        "plt.grid(False)\n",
        "plt.xticks([])\n",
        "plt.yticks([])\n",
        "plt.imshow(imgLocal[0,...], cmap=plt.cm.binary)\n",
        "# plt.colorbar()\n",
        "plt.xlabel(\"Prediccion: {}\".format(name[tagLocalTest]), color='purple')\n",
        "\n",
        "plt.subplot(rows, 2*columns, 2*0+2)\n",
        "plt.grid(False)\n",
        "plt.xticks([])\n",
        "plt.yticks([])\n",
        "thisplot = plt.bar(range(10), PrdLocal[0], color='#777777')\n",
        "plt.ylim([0,1])\n",
        "thisplot[tagLocalTest].set_color(\"red\")\n",
        "thisplot[tagLocalTest].set_color(\"blue\")\n",
        "\n",
        "plt.rcParams['font.size'] = 15\n",
        "plt.show()"
      ],
      "execution_count": null,
      "outputs": [
        {
          "output_type": "display_data",
          "data": {
            "image/png": "[encoded data removed]",
            "text/plain": [
              "<Figure size 576x288 with 2 Axes>"
            ]
          },
          "metadata": {}
        }
      ]
    },
    {
      "cell_type": "code",
      "metadata": {
        "id": "vj14MCy1niWy",
        "colab": {
          "base_uri": "https://localhost:8080/",
          "height": 594
        },
        "outputId": "6b12299b-ec42-488c-d5cf-291240c1a21f"
      },
      "source": [
        "#RECORRER IMAGENES A GRAFICAR \n",
        "rows = 5\n",
        "columns = 3\n",
        "numImg = rows*columns\n",
        "\n",
        "plt.figure(figsize=(2*2*columns, 2*rows))\n",
        "\n",
        "for i in range(numImg):\n",
        "  plt.subplot(rows, 2*columns, 2*i+1)\n",
        "  grafImgagen(prd, tagTest, imgTest)\n",
        "\n",
        "  plt.subplot(rows, 2*columns, 2*i+2)\n",
        "  grafiMatriz(prd, tagTest)\n",
        "\n",
        "plt.rcParams['font.size'] = 14\n",
        "plt.show()"
      ],
      "execution_count": null,
      "outputs": [
        {
          "output_type": "display_data",
          "data": {
            "image/png": "[encoded data removed]",
            "text/plain": [
              "<Figure size 864x720 with 30 Axes>"
            ]
          },
          "metadata": {}
        }
      ]
    }
  ]
}