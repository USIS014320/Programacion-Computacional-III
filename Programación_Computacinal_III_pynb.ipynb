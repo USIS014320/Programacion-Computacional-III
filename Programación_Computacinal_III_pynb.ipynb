{
  "nbformat": 4,
  "nbformat_minor": 0,
  "metadata": {
    "colab": {
      "name": "Programación Computacinal III.pynb",
      "provenance": [],
      "collapsed_sections": [],
      "toc_visible": true,
      "authorship_tag": "ABX9TyNRu2GfdzhW7a6gLLCccnaw",
      "include_colab_link": true
    },
    "kernelspec": {
      "name": "python3",
      "display_name": "Python 3"
    },
    "language_info": {
      "name": "python"
    }
  },
  "cells": [
    {
      "cell_type": "markdown",
      "metadata": {
        "id": "view-in-github",
        "colab_type": "text"
      },
      "source": [
        "<a href=\"https://colab.research.google.com/github/USIS014320/Programacion-Computacional-III/blob/main/Programaci%C3%B3n_Computacinal_III_pynb.ipynb\" target=\"_parent\"><img src=\"https://colab.research.google.com/assets/colab-badge.svg\" alt=\"Open In Colab\"/></a>"
      ]
    },
    {
      "cell_type": "code",
      "metadata": {
        "id": "k1fnau3VNHrn"
      },
      "source": [
        "# convertir Celcius a Farenheit.\n",
        " \n",
        "def convertirCF(c):\n",
        "  c = (c*9/5)+32\n",
        "  return c\n",
        " \n",
        "c = float(input(\"c: \"))\n",
        "print(\"C: \", str(c), \"Grados Celcius a Fahrenheit son:\", str( convertirCF(c) ), \"Grados Farenheit.\")"
      ],
      "execution_count": null,
      "outputs": []
    },
    {
      "cell_type": "code",
      "metadata": {
        "id": "uaDCdIwzIJMf"
      },
      "source": [
        "# Calcular la edad de una persona.\n",
        " \n",
        "def calcularC(c):\n",
        " c = (fa-fn)\n",
        " return c\n",
        " \n",
        "fa = int(input(\"Año Actual: \"))\n",
        "fn = int(input(\"Año de Nacimiento: \"))\n",
        " \n",
        "print(\"c: \",  \"La edad actual es:\",int( calcularC(c) ), \"años.\")"
      ],
      "execution_count": null,
      "outputs": []
    },
    {
      "cell_type": "code",
      "metadata": {
        "id": "NzLF9NXcmuDj"
      },
      "source": [
        "# Obtener la nota final de ciclo.\n",
        "\n",
        "def promedio(c):\n",
        " c1 = ((L1+L2)*0.30)+P1*0.40\n",
        " c2 = ((L1a+L2a)*0.30)+P2*0.40\n",
        " c3 = ((L1b+L2b)*0.30)+P3*0.40\n",
        "\n",
        " c = (c1+c2+c3)/3\n",
        "\n",
        " return c\n",
        "\n",
        "L1 = float(input(\"Nota del laboratorio 1 computo 1: \"))\n",
        "L2 = float(input(\"Nota del laboratorio 2 computo 1: \"))\n",
        "P1 = float(input(\"Nota del parcial 1 computo 1: \"))\n",
        "\n",
        "L1a = float(input(\"Nota del laboratorio 1 computo 2: \"))\n",
        "L2a = float(input(\"Nota del laboratorio 2 computo 2: \"))\n",
        "P2 = float(input(\"Nota del parcial 2 computo 2: \"))\n",
        "\n",
        "L1b = float(input(\"Nota del laboratorio 1 computo 3: \"))\n",
        "L2b = float(input(\"Nota del laboratorio 2 computo 3: \"))\n",
        "P3 = float(input(\"Nota del parcial 3 computo 3: \"))\n",
        "\n",
        "print(\"c: \",  \"La nota promedio es:\",float( promedio(c) ))"
      ],
      "execution_count": null,
      "outputs": []
    },
    {
      "cell_type": "code",
      "metadata": {
        "id": "CUvGABQvat_l"
      },
      "source": [
        "# Convertir Celcius a Farenheit utilizando lambda.\n",
        " \n",
        "convertirCF = lambda c: (c*9/5)+32\n",
        "\n",
        "c = float(input(\"Celcius: \"))\n",
        "print(\"Respuesta: \", str(c), \"Grados Celcius en Fahrenheit son:\", str( convertirCF(c) ), \"Grados Farenheit.\")"
      ],
      "execution_count": null,
      "outputs": []
    },
    {
      "cell_type": "code",
      "metadata": {
        "id": "bvGMKK4TfTJZ"
      },
      "source": [
        "# Calcular la edad de una persona utilizando la funcion lambda\n",
        " \n",
        "calcular = lambda c:  (fa-fn)\n",
        "\n",
        "fa = int(input(\"Año Actual: \"))\n",
        "fn = int(input(\"Año de Nacimiento: \"))\n",
        " \n",
        "print(\"c: \",  \"La edad actual es:\",int( calcular(c) ), \"años.\")"
      ],
      "execution_count": null,
      "outputs": []
    },
    {
      "cell_type": "code",
      "metadata": {
        "id": "Ae-DvUYPg61y"
      },
      "source": [
        "# Obtener la nota final de ciclo con lambda.\n",
        "\n",
        "promedio = lambda c: (((L1+L2+L1a+L2a+L1b+L2b) * 0.3) + ((P1+P2+P3) * 0.4)) / 3\n",
        "\n",
        "L1 = float(input(\"Nota del laboratorio 1 computo 1: \"))\n",
        "L2 = float(input(\"Nota del laboratorio 2 computo 1: \"))\n",
        "P1 = float(input(\"Nota del parcial 1 computo 1: \"))\n",
        "\n",
        "L1a = float(input(\"Nota del laboratorio 1 computo 2: \"))\n",
        "L2a = float(input(\"Nota del laboratorio 2 computo 2: \"))\n",
        "P2 = float(input(\"Nota del parcial 2 computo 2: \"))\n",
        "\n",
        "L1b = float(input(\"Nota del laboratorio 1 computo 3: \"))\n",
        "L2b = float(input(\"Nota del laboratorio 2 computo 3: \"))\n",
        "P3 = float(input(\"Nota del parcial 3 computo 3: \"))\n",
        "\n",
        "print(\"c: \",  \"La nota promedio es:\",float( promedio(c) ))"
      ],
      "execution_count": null,
      "outputs": []
    }
  ]
}